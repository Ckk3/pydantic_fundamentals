{
 "cells": [
  {
   "cell_type": "markdown",
   "metadata": {},
   "source": [
    "# Pydantic Fundamentals"
   ]
  },
  {
   "cell_type": "markdown",
   "metadata": {},
   "source": [
    "## validate_call"
   ]
  },
  {
   "cell_type": "code",
   "execution_count": 5,
   "metadata": {},
   "outputs": [
    {
     "name": "stdout",
     "output_type": "stream",
     "text": [
      "3\n",
      "4\n",
      "somas\n",
      "4\n"
     ]
    },
    {
     "ename": "ValidationError",
     "evalue": "1 validation error for soma\n1\n  Input should be a valid integer, unable to parse string as an integer [type=int_parsing, input_value='as', input_type=str]\n    For further information visit https://errors.pydantic.dev/2.1/v/int_parsing",
     "output_type": "error",
     "traceback": [
      "\u001b[0;31m---------------------------------------------------------------------------\u001b[0m",
      "\u001b[0;31mValidationError\u001b[0m                           Traceback (most recent call last)",
      "Cell \u001b[0;32mIn[5], line 20\u001b[0m\n\u001b[1;32m     17\u001b[0m     \u001b[39mreturn\u001b[39;00m a \u001b[39m+\u001b[39m b\n\u001b[1;32m     19\u001b[0m \u001b[39mprint\u001b[39m(soma(\u001b[39m2\u001b[39m, \u001b[39m2\u001b[39m))\n\u001b[0;32m---> 20\u001b[0m \u001b[39mprint\u001b[39m(soma(\u001b[39m1\u001b[39;49m, \u001b[39m\"\u001b[39;49m\u001b[39mas\u001b[39;49m\u001b[39m\"\u001b[39;49m))\n",
      "File \u001b[0;32m/mnt/c/DEV/Studies/pydantic_fundamentals/venv/lib/python3.10/site-packages/pydantic/_internal/_validate_call.py:91\u001b[0m, in \u001b[0;36mValidateCallWrapper.__call__\u001b[0;34m(self, *args, **kwargs)\u001b[0m\n\u001b[1;32m     90\u001b[0m \u001b[39mdef\u001b[39;00m \u001b[39m__call__\u001b[39m(\u001b[39mself\u001b[39m, \u001b[39m*\u001b[39margs: Any, \u001b[39m*\u001b[39m\u001b[39m*\u001b[39mkwargs: Any) \u001b[39m-\u001b[39m\u001b[39m>\u001b[39m Any:\n\u001b[0;32m---> 91\u001b[0m     res \u001b[39m=\u001b[39m \u001b[39mself\u001b[39;49m\u001b[39m.\u001b[39;49m__pydantic_validator__\u001b[39m.\u001b[39;49mvalidate_python(pydantic_core\u001b[39m.\u001b[39;49mArgsKwargs(args, kwargs))\n\u001b[1;32m     92\u001b[0m     \u001b[39mif\u001b[39;00m \u001b[39mself\u001b[39m\u001b[39m.\u001b[39m__return_pydantic_validator__:\n\u001b[1;32m     93\u001b[0m         \u001b[39mreturn\u001b[39;00m \u001b[39mself\u001b[39m\u001b[39m.\u001b[39m__return_pydantic_validator__\u001b[39m.\u001b[39mvalidate_python(res)\n",
      "\u001b[0;31mValidationError\u001b[0m: 1 validation error for soma\n1\n  Input should be a valid integer, unable to parse string as an integer [type=int_parsing, input_value='as', input_type=str]\n    For further information visit https://errors.pydantic.dev/2.1/v/int_parsing"
     ]
    }
   ],
   "source": [
    "# Try without and with python type hints\n",
    "def soma(a, b):\n",
    "    return a + b\n",
    "\n",
    "print(soma(1, 2))\n",
    "\n",
    "def soma(a: int, b: int) -> int:\n",
    "    return a + b\n",
    "\n",
    "print(soma(2, 2))\n",
    "print(soma(\"som\", \"as\"))\n",
    "\n",
    "from pydantic import validate_call\n",
    "\n",
    "@validate_call\n",
    "def soma(a: int, b: int) -> int:\n",
    "    return a + b\n",
    "\n",
    "print(soma(2, 2))\n",
    "print(soma(1, \"as\"))"
   ]
  },
  {
   "cell_type": "code",
   "execution_count": 9,
   "metadata": {},
   "outputs": [
    {
     "name": "stdout",
     "output_type": "stream",
     "text": [
      "3\n",
      "13\n",
      "3\n",
      "13\n"
     ]
    }
   ],
   "source": [
    "from typing import Union\n",
    "from pydantic import validate_call\n",
    "\n",
    "def soma(a: int, b: Union[int, str]):\n",
    "    return a + b\n",
    "\n",
    "print(soma(1, 2))\n",
    "print(soma('1', '3'))\n",
    "\n",
    "@validate_call\n",
    "def soma(a: Union[int, str], b: Union[int, str]):\n",
    "    return a + b\n",
    "\n",
    "print(soma(1, 2))\n",
    "print(soma('1', '3'))"
   ]
  },
  {
   "cell_type": "markdown",
   "metadata": {},
   "source": [
    "## Data Classes"
   ]
  },
  {
   "cell_type": "code",
   "execution_count": 22,
   "metadata": {},
   "outputs": [
    {
     "name": "stdout",
     "output_type": "stream",
     "text": [
      "Person(name='John', age='42')\n",
      "PersonPydantic(name='John', age=42)\n"
     ]
    },
    {
     "ename": "ValidationError",
     "evalue": "1 validation error for PersonPydanticStrict\nage\n  Input should be a valid integer [type=int_type, input_value='42', input_type=str]\n    For further information visit https://errors.pydantic.dev/2.1/v/int_type",
     "output_type": "error",
     "traceback": [
      "\u001b[0;31m---------------------------------------------------------------------------\u001b[0m",
      "\u001b[0;31mValidationError\u001b[0m                           Traceback (most recent call last)",
      "Cell \u001b[0;32mIn[22], line 33\u001b[0m\n\u001b[1;32m     30\u001b[0m     name: \u001b[39mstr\u001b[39m\n\u001b[1;32m     31\u001b[0m     age: StrictInt\n\u001b[0;32m---> 33\u001b[0m p3 \u001b[39m=\u001b[39m PersonPydanticStrict(name\u001b[39m=\u001b[39;49m\u001b[39m'\u001b[39;49m\u001b[39mJohn\u001b[39;49m\u001b[39m'\u001b[39;49m, age\u001b[39m=\u001b[39;49m\u001b[39m'\u001b[39;49m\u001b[39m42\u001b[39;49m\u001b[39m'\u001b[39;49m)\n",
      "File \u001b[0;32m/mnt/c/DEV/Studies/pydantic_fundamentals/venv/lib/python3.10/site-packages/pydantic/_internal/_dataclasses.py:124\u001b[0m, in \u001b[0;36mcomplete_dataclass.<locals>.__init__\u001b[0;34m(__dataclass_self__, *args, **kwargs)\u001b[0m\n\u001b[1;32m    122\u001b[0m __tracebackhide__ \u001b[39m=\u001b[39m \u001b[39mTrue\u001b[39;00m\n\u001b[1;32m    123\u001b[0m s \u001b[39m=\u001b[39m __dataclass_self__\n\u001b[0;32m--> 124\u001b[0m s\u001b[39m.\u001b[39;49m__pydantic_validator__\u001b[39m.\u001b[39;49mvalidate_python(ArgsKwargs(args, kwargs), self_instance\u001b[39m=\u001b[39;49ms)\n",
      "\u001b[0;31mValidationError\u001b[0m: 1 validation error for PersonPydanticStrict\nage\n  Input should be a valid integer [type=int_type, input_value='42', input_type=str]\n    For further information visit https://errors.pydantic.dev/2.1/v/int_type"
     ]
    }
   ],
   "source": [
    "from dataclasses import dataclass\n",
    "\n",
    "@dataclass\n",
    "class Person:\n",
    "    name: str\n",
    "    age: int\n",
    "\n",
    "# This class dont have any validation\n",
    "p1 = Person(name='John', age='42')\n",
    "print(p1)\n",
    "\n",
    "from pydantic.dataclasses import dataclass as pydantic_dataclass\n",
    "\n",
    "@pydantic_dataclass\n",
    "class PersonPydantic:\n",
    "    name: str\n",
    "    age: int\n",
    "\n",
    "\n",
    "# This class have validation and will change str to int\n",
    "p2 = PersonPydantic(name='John', age='42')\n",
    "print(p2)\n",
    "\n",
    "\n",
    "# Can use strictInt to only receive int and DONT change str to int\n",
    "from pydantic import StrictInt\n",
    "\n",
    "@pydantic_dataclass\n",
    "class PersonPydanticStrict:\n",
    "    name: str\n",
    "    age: StrictInt\n",
    "\n",
    "p3 = PersonPydanticStrict(name='John', age='42')"
   ]
  },
  {
   "cell_type": "markdown",
   "metadata": {},
   "source": [
    "## Base Models"
   ]
  },
  {
   "cell_type": "code",
   "execution_count": 10,
   "metadata": {},
   "outputs": [
    {
     "name": "stdout",
     "output_type": "stream",
     "text": [
      "name='John' age=20 email='admin@admin.com' password='123456' is_active=False\n",
      "name='Arthur' age=21 email='email@email.com' password='12' is_active=True\n",
      "John\n",
      "20\n",
      "Arthur\n",
      "21\n",
      "registers=[Register(name='Arthur', age=21, email='email@email.com', password='12', is_active=True), Register(name='Joao', age=23, email='email@email2.com', password='32', is_active=True)]\n",
      "Arthur\n",
      "Joao\n"
     ]
    }
   ],
   "source": [
    "from pydantic import BaseModel\n",
    "\n",
    "class Register(BaseModel):\n",
    "    name: str\n",
    "    age: int\n",
    "    email: str\n",
    "    password: str\n",
    "    is_active: bool = True\n",
    "\n",
    "# Creating a new register\n",
    "r = Register(name='John', age=20, email=\"admin@admin.com\", password=\"123456\", is_active=False)\n",
    "r_2 = Register(**{'name': 'Arthur', 'age': 21, 'email': 'email@email.com', 'password':'12'})\n",
    "\n",
    "print(r)\n",
    "print(r_2)\n",
    "\n",
    "print(r.name)\n",
    "print(r.age)\n",
    "print(r_2.name)\n",
    "print(r_2.age)\n",
    "\n",
    "class Registers(BaseModel):\n",
    "    registers: list[Register]\n",
    "\n",
    "reg_list = [\n",
    "    {'name': 'Arthur', 'age': 21, 'email': 'email@email.com', 'password':'12'},\n",
    "    {'name': 'Joao', 'age': 23, 'email': 'email@email2.com', 'password':'32'}\n",
    "]\n",
    "\n",
    "# Adding this registers in Registers Class trought a list of dicts\n",
    "regs = Registers(registers=reg_list)\n",
    "print(regs)\n",
    "print(regs.registers[0].name)\n",
    "print(regs.registers[1].name)\n"
   ]
  },
  {
   "cell_type": "code",
   "execution_count": 55,
   "metadata": {},
   "outputs": [
    {
     "ename": "ValidationError",
     "evalue": "3 validation errors for Register\nemail\n  Value error, must contain @ [type=value_error, input_value='samuel', input_type=str]\n    For further information visit https://errors.pydantic.dev/2.1/v/value_error\npassword1\n  Value error, Password must be at least 8 characters long [type=value_error, input_value='1234', input_type=str]\n    For further information visit https://errors.pydantic.dev/2.1/v/value_error\npassword2\n  Value error, Password must be at least 8 characters long [type=value_error, input_value='12345', input_type=str]\n    For further information visit https://errors.pydantic.dev/2.1/v/value_error",
     "output_type": "error",
     "traceback": [
      "\u001b[0;31m---------------------------------------------------------------------------\u001b[0m",
      "\u001b[0;31mValidationError\u001b[0m                           Traceback (most recent call last)",
      "Cell \u001b[0;32mIn[55], line 32\u001b[0m\n\u001b[1;32m     30\u001b[0m r1 \u001b[39m=\u001b[39m Register(email\u001b[39m=\u001b[39m\u001b[39m'\u001b[39m\u001b[39maaaa@addd.com\u001b[39m\u001b[39m'\u001b[39m, password1\u001b[39m=\u001b[39m\u001b[39m'\u001b[39m\u001b[39m123456789\u001b[39m\u001b[39m'\u001b[39m, password2\u001b[39m=\u001b[39m\u001b[39m'\u001b[39m\u001b[39m123456789\u001b[39m\u001b[39m'\u001b[39m)\n\u001b[1;32m     31\u001b[0m \u001b[39m# wrong email \u001b[39;00m\n\u001b[0;32m---> 32\u001b[0m r2 \u001b[39m=\u001b[39m Register(email\u001b[39m=\u001b[39;49m\u001b[39m'\u001b[39;49m\u001b[39msamuel\u001b[39;49m\u001b[39m'\u001b[39;49m, password1\u001b[39m=\u001b[39;49m\u001b[39m'\u001b[39;49m\u001b[39m1234\u001b[39;49m\u001b[39m'\u001b[39;49m, password2\u001b[39m=\u001b[39;49m\u001b[39m'\u001b[39;49m\u001b[39m12345\u001b[39;49m\u001b[39m'\u001b[39;49m) \n",
      "File \u001b[0;32m/mnt/c/DEV/Studies/pydantic_fundamentals/venv/lib/python3.10/site-packages/pydantic/main.py:159\u001b[0m, in \u001b[0;36mBaseModel.__init__\u001b[0;34m(__pydantic_self__, **data)\u001b[0m\n\u001b[1;32m    157\u001b[0m \u001b[39m# `__tracebackhide__` tells pytest and some other tools to omit this function from tracebacks\u001b[39;00m\n\u001b[1;32m    158\u001b[0m __tracebackhide__ \u001b[39m=\u001b[39m \u001b[39mTrue\u001b[39;00m\n\u001b[0;32m--> 159\u001b[0m __pydantic_self__\u001b[39m.\u001b[39;49m__pydantic_validator__\u001b[39m.\u001b[39;49mvalidate_python(data, self_instance\u001b[39m=\u001b[39;49m__pydantic_self__)\n",
      "\u001b[0;31mValidationError\u001b[0m: 3 validation errors for Register\nemail\n  Value error, must contain @ [type=value_error, input_value='samuel', input_type=str]\n    For further information visit https://errors.pydantic.dev/2.1/v/value_error\npassword1\n  Value error, Password must be at least 8 characters long [type=value_error, input_value='1234', input_type=str]\n    For further information visit https://errors.pydantic.dev/2.1/v/value_error\npassword2\n  Value error, Password must be at least 8 characters long [type=value_error, input_value='12345', input_type=str]\n    For further information visit https://errors.pydantic.dev/2.1/v/value_error"
     ]
    }
   ],
   "source": [
    "# Validating fields\n",
    "from pydantic import BaseModel, field_validator, model_validator\n",
    "\n",
    "class Register(BaseModel):\n",
    "    email: str\n",
    "    password1: str\n",
    "    password2: str\n",
    "\n",
    "    @field_validator('email')\n",
    "    def email_must_contain_at(cls, value):\n",
    "        if '@' not in value:\n",
    "            raise ValueError('must contain @')\n",
    "        return value\n",
    "\n",
    "    @field_validator('password1', 'password2')\n",
    "    def passwords_must_be_longer_than_8_char(cls, value):\n",
    "        if len(value) < 8:\n",
    "            raise ValueError('Password must be at least 8 characters long')\n",
    "        return value\n",
    "\n",
    "    @model_validator(mode='after')\n",
    "    def passwords_match(self):\n",
    "        pw1 = self.password1\n",
    "        pw2 = self.password2\n",
    "        if pw1 != pw2:\n",
    "            raise ValueError('passwords do not match')\n",
    "        return self\n",
    "\n",
    "# right value\n",
    "r1 = Register(email='aaaa@addd.com', password1='123456789', password2='123456789')\n",
    "# wrong email \n",
    "r2 = Register(email='samuel', password1='1234', password2='12345') \n",
    "\n"
   ]
  },
  {
   "cell_type": "code",
   "execution_count": 61,
   "metadata": {},
   "outputs": [
    {
     "name": "stdout",
     "output_type": "stream",
     "text": [
      "ids=[1, 2, 3]\n",
      "ids=[3, 2, 1]\n"
     ]
    }
   ],
   "source": [
    "# Pre validator\n",
    "\n",
    "from pydantic import BaseModel, field_validator\n",
    "\n",
    "class Orders(BaseModel):\n",
    "    ids: list[int]\n",
    "\n",
    "    @field_validator('ids', mode='before')\n",
    "    def convert_ids(cls, v):\n",
    "        if type(v) is str:\n",
    "            return [int(i) for i in v.split(',')]\n",
    "        return v\n",
    "\n",
    "print(Orders(ids='1,2,3'))\n",
    "print(Orders(ids=[3,2,1]))\n",
    "\n"
   ]
  },
  {
   "cell_type": "code",
   "execution_count": 71,
   "metadata": {},
   "outputs": [
    {
     "name": "stdout",
     "output_type": "stream",
     "text": [
      "name='John Doe' email='abcde@gmail.com' password='123456'\n"
     ]
    },
    {
     "ename": "ValidationError",
     "evalue": "1 validation error for User\nemail\n  value is not a valid email address: The part after the @-sign is not valid. It should have a period. [type=value_error, input_value='abcde@gmailom', input_type=str]",
     "output_type": "error",
     "traceback": [
      "\u001b[0;31m---------------------------------------------------------------------------\u001b[0m",
      "\u001b[0;31mValidationError\u001b[0m                           Traceback (most recent call last)",
      "Cell \u001b[0;32mIn[71], line 11\u001b[0m\n\u001b[1;32m      8\u001b[0m     password: \u001b[39mstr\u001b[39m\n\u001b[1;32m     10\u001b[0m \u001b[39mprint\u001b[39m(User(name\u001b[39m=\u001b[39m\u001b[39m'\u001b[39m\u001b[39mJohn Doe\u001b[39m\u001b[39m'\u001b[39m, email\u001b[39m=\u001b[39m\u001b[39m'\u001b[39m\u001b[39mabcde@gmail.com\u001b[39m\u001b[39m'\u001b[39m, password\u001b[39m=\u001b[39m\u001b[39m'\u001b[39m\u001b[39m123456\u001b[39m\u001b[39m'\u001b[39m))\n\u001b[0;32m---> 11\u001b[0m \u001b[39mprint\u001b[39m(User(name\u001b[39m=\u001b[39;49m\u001b[39m'\u001b[39;49m\u001b[39mJohn Doe\u001b[39;49m\u001b[39m'\u001b[39;49m, email\u001b[39m=\u001b[39;49m\u001b[39m'\u001b[39;49m\u001b[39mabcde@gmailom\u001b[39;49m\u001b[39m'\u001b[39;49m, password\u001b[39m=\u001b[39;49m\u001b[39m'\u001b[39;49m\u001b[39m123456\u001b[39;49m\u001b[39m'\u001b[39;49m))\n",
      "File \u001b[0;32m/mnt/c/DEV/Studies/pydantic_fundamentals/venv/lib/python3.10/site-packages/pydantic/main.py:159\u001b[0m, in \u001b[0;36mBaseModel.__init__\u001b[0;34m(__pydantic_self__, **data)\u001b[0m\n\u001b[1;32m    157\u001b[0m \u001b[39m# `__tracebackhide__` tells pytest and some other tools to omit this function from tracebacks\u001b[39;00m\n\u001b[1;32m    158\u001b[0m __tracebackhide__ \u001b[39m=\u001b[39m \u001b[39mTrue\u001b[39;00m\n\u001b[0;32m--> 159\u001b[0m __pydantic_self__\u001b[39m.\u001b[39;49m__pydantic_validator__\u001b[39m.\u001b[39;49mvalidate_python(data, self_instance\u001b[39m=\u001b[39;49m__pydantic_self__)\n",
      "\u001b[0;31mValidationError\u001b[0m: 1 validation error for User\nemail\n  value is not a valid email address: The part after the @-sign is not valid. It should have a period. [type=value_error, input_value='abcde@gmailom', input_type=str]"
     ]
    }
   ],
   "source": [
    "# Pydantic Fields\n",
    "\n",
    "from pydantic import BaseModel, EmailStr\n",
    "\n",
    "class User(BaseModel):\n",
    "    name: str\n",
    "    email: EmailStr\n",
    "    password: str\n",
    "\n",
    "print(User(name='John Doe', email='abcde@gmail.com', password='123456'))\n",
    "print(User(name='John Doe', email='abcde@gmailom', password='123456'))"
   ]
  }
 ],
 "metadata": {
  "kernelspec": {
   "display_name": "Python 3",
   "language": "python",
   "name": "python3"
  },
  "language_info": {
   "codemirror_mode": {
    "name": "ipython",
    "version": 3
   },
   "file_extension": ".py",
   "mimetype": "text/x-python",
   "name": "python",
   "nbconvert_exporter": "python",
   "pygments_lexer": "ipython3",
   "version": "3.10.6"
  },
  "orig_nbformat": 4
 },
 "nbformat": 4,
 "nbformat_minor": 2
}
