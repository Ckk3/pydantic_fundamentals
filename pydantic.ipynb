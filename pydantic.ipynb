{
 "cells": [
  {
   "cell_type": "markdown",
   "metadata": {},
   "source": [
    "# Pydantic Fundamentals"
   ]
  },
  {
   "cell_type": "markdown",
   "metadata": {},
   "source": [
    "## validate_call"
   ]
  },
  {
   "cell_type": "code",
   "execution_count": 5,
   "metadata": {},
   "outputs": [
    {
     "name": "stdout",
     "output_type": "stream",
     "text": [
      "3\n",
      "4\n",
      "somas\n",
      "4\n"
     ]
    },
    {
     "ename": "ValidationError",
     "evalue": "1 validation error for soma\n1\n  Input should be a valid integer, unable to parse string as an integer [type=int_parsing, input_value='as', input_type=str]\n    For further information visit https://errors.pydantic.dev/2.1/v/int_parsing",
     "output_type": "error",
     "traceback": [
      "\u001b[0;31m---------------------------------------------------------------------------\u001b[0m",
      "\u001b[0;31mValidationError\u001b[0m                           Traceback (most recent call last)",
      "Cell \u001b[0;32mIn[5], line 20\u001b[0m\n\u001b[1;32m     17\u001b[0m     \u001b[39mreturn\u001b[39;00m a \u001b[39m+\u001b[39m b\n\u001b[1;32m     19\u001b[0m \u001b[39mprint\u001b[39m(soma(\u001b[39m2\u001b[39m, \u001b[39m2\u001b[39m))\n\u001b[0;32m---> 20\u001b[0m \u001b[39mprint\u001b[39m(soma(\u001b[39m1\u001b[39;49m, \u001b[39m\"\u001b[39;49m\u001b[39mas\u001b[39;49m\u001b[39m\"\u001b[39;49m))\n",
      "File \u001b[0;32m/mnt/c/DEV/Studies/pydantic_fundamentals/venv/lib/python3.10/site-packages/pydantic/_internal/_validate_call.py:91\u001b[0m, in \u001b[0;36mValidateCallWrapper.__call__\u001b[0;34m(self, *args, **kwargs)\u001b[0m\n\u001b[1;32m     90\u001b[0m \u001b[39mdef\u001b[39;00m \u001b[39m__call__\u001b[39m(\u001b[39mself\u001b[39m, \u001b[39m*\u001b[39margs: Any, \u001b[39m*\u001b[39m\u001b[39m*\u001b[39mkwargs: Any) \u001b[39m-\u001b[39m\u001b[39m>\u001b[39m Any:\n\u001b[0;32m---> 91\u001b[0m     res \u001b[39m=\u001b[39m \u001b[39mself\u001b[39;49m\u001b[39m.\u001b[39;49m__pydantic_validator__\u001b[39m.\u001b[39;49mvalidate_python(pydantic_core\u001b[39m.\u001b[39;49mArgsKwargs(args, kwargs))\n\u001b[1;32m     92\u001b[0m     \u001b[39mif\u001b[39;00m \u001b[39mself\u001b[39m\u001b[39m.\u001b[39m__return_pydantic_validator__:\n\u001b[1;32m     93\u001b[0m         \u001b[39mreturn\u001b[39;00m \u001b[39mself\u001b[39m\u001b[39m.\u001b[39m__return_pydantic_validator__\u001b[39m.\u001b[39mvalidate_python(res)\n",
      "\u001b[0;31mValidationError\u001b[0m: 1 validation error for soma\n1\n  Input should be a valid integer, unable to parse string as an integer [type=int_parsing, input_value='as', input_type=str]\n    For further information visit https://errors.pydantic.dev/2.1/v/int_parsing"
     ]
    }
   ],
   "source": [
    "# Try without and with python type hints\n",
    "def soma(a, b):\n",
    "    return a + b\n",
    "\n",
    "print(soma(1, 2))\n",
    "\n",
    "def soma(a: int, b: int) -> int:\n",
    "    return a + b\n",
    "\n",
    "print(soma(2, 2))\n",
    "print(soma(\"som\", \"as\"))\n",
    "\n",
    "from pydantic import validate_call\n",
    "\n",
    "@validate_call\n",
    "def soma(a: int, b: int) -> int:\n",
    "    return a + b\n",
    "\n",
    "print(soma(2, 2))\n",
    "print(soma(1, \"as\"))"
   ]
  },
  {
   "cell_type": "code",
   "execution_count": 9,
   "metadata": {},
   "outputs": [
    {
     "name": "stdout",
     "output_type": "stream",
     "text": [
      "3\n",
      "13\n",
      "3\n",
      "13\n"
     ]
    }
   ],
   "source": [
    "from typing import Union\n",
    "from pydantic import validate_call\n",
    "\n",
    "def soma(a: int, b: Union[int, str]):\n",
    "    return a + b\n",
    "\n",
    "print(soma(1, 2))\n",
    "print(soma('1', '3'))\n",
    "\n",
    "@validate_call\n",
    "def soma(a: Union[int, str], b: Union[int, str]):\n",
    "    return a + b\n",
    "\n",
    "print(soma(1, 2))\n",
    "print(soma('1', '3'))"
   ]
  },
  {
   "cell_type": "markdown",
   "metadata": {},
   "source": [
    "## Data Classes"
   ]
  },
  {
   "cell_type": "code",
   "execution_count": 22,
   "metadata": {},
   "outputs": [
    {
     "name": "stdout",
     "output_type": "stream",
     "text": [
      "Person(name='John', age='42')\n",
      "PersonPydantic(name='John', age=42)\n"
     ]
    },
    {
     "ename": "ValidationError",
     "evalue": "1 validation error for PersonPydanticStrict\nage\n  Input should be a valid integer [type=int_type, input_value='42', input_type=str]\n    For further information visit https://errors.pydantic.dev/2.1/v/int_type",
     "output_type": "error",
     "traceback": [
      "\u001b[0;31m---------------------------------------------------------------------------\u001b[0m",
      "\u001b[0;31mValidationError\u001b[0m                           Traceback (most recent call last)",
      "Cell \u001b[0;32mIn[22], line 33\u001b[0m\n\u001b[1;32m     30\u001b[0m     name: \u001b[39mstr\u001b[39m\n\u001b[1;32m     31\u001b[0m     age: StrictInt\n\u001b[0;32m---> 33\u001b[0m p3 \u001b[39m=\u001b[39m PersonPydanticStrict(name\u001b[39m=\u001b[39;49m\u001b[39m'\u001b[39;49m\u001b[39mJohn\u001b[39;49m\u001b[39m'\u001b[39;49m, age\u001b[39m=\u001b[39;49m\u001b[39m'\u001b[39;49m\u001b[39m42\u001b[39;49m\u001b[39m'\u001b[39;49m)\n",
      "File \u001b[0;32m/mnt/c/DEV/Studies/pydantic_fundamentals/venv/lib/python3.10/site-packages/pydantic/_internal/_dataclasses.py:124\u001b[0m, in \u001b[0;36mcomplete_dataclass.<locals>.__init__\u001b[0;34m(__dataclass_self__, *args, **kwargs)\u001b[0m\n\u001b[1;32m    122\u001b[0m __tracebackhide__ \u001b[39m=\u001b[39m \u001b[39mTrue\u001b[39;00m\n\u001b[1;32m    123\u001b[0m s \u001b[39m=\u001b[39m __dataclass_self__\n\u001b[0;32m--> 124\u001b[0m s\u001b[39m.\u001b[39;49m__pydantic_validator__\u001b[39m.\u001b[39;49mvalidate_python(ArgsKwargs(args, kwargs), self_instance\u001b[39m=\u001b[39;49ms)\n",
      "\u001b[0;31mValidationError\u001b[0m: 1 validation error for PersonPydanticStrict\nage\n  Input should be a valid integer [type=int_type, input_value='42', input_type=str]\n    For further information visit https://errors.pydantic.dev/2.1/v/int_type"
     ]
    }
   ],
   "source": [
    "from dataclasses import dataclass\n",
    "\n",
    "@dataclass\n",
    "class Person:\n",
    "    name: str\n",
    "    age: int\n",
    "\n",
    "# This class dont have any validation\n",
    "p1 = Person(name='John', age='42')\n",
    "print(p1)\n",
    "\n",
    "from pydantic.dataclasses import dataclass as pydantic_dataclass\n",
    "\n",
    "@pydantic_dataclass\n",
    "class PersonPydantic:\n",
    "    name: str\n",
    "    age: int\n",
    "\n",
    "\n",
    "# This class have validation and will change str to int\n",
    "p2 = PersonPydantic(name='John', age='42')\n",
    "print(p2)\n",
    "\n",
    "\n",
    "# Can use strictInt to only receive int and DONT change str to int\n",
    "from pydantic import StrictInt\n",
    "\n",
    "@pydantic_dataclass\n",
    "class PersonPydanticStrict:\n",
    "    name: str\n",
    "    age: StrictInt\n",
    "\n",
    "p3 = PersonPydanticStrict(name='John', age='42')"
   ]
  },
  {
   "cell_type": "markdown",
   "metadata": {},
   "source": [
    "## Base Models"
   ]
  },
  {
   "cell_type": "code",
   "execution_count": 1,
   "metadata": {},
   "outputs": [],
   "source": [
    "from pydantic import BaseModel\n",
    "\n",
    "class Register(BaseModel):\n",
    "    name: str\n",
    "    age: int\n",
    "    email: str\n",
    "    password: str\n",
    "    is_active: bool = True\n",
    "\n",
    "\n",
    "r = Register(name='John', age=20, email=\"admin@admin.com\", password=\"123456\", is_active=True)"
   ]
  },
  {
   "cell_type": "code",
   "execution_count": null,
   "metadata": {},
   "outputs": [],
   "source": []
  }
 ],
 "metadata": {
  "kernelspec": {
   "display_name": "Python 3",
   "language": "python",
   "name": "python3"
  },
  "language_info": {
   "codemirror_mode": {
    "name": "ipython",
    "version": 3
   },
   "file_extension": ".py",
   "mimetype": "text/x-python",
   "name": "python",
   "nbconvert_exporter": "python",
   "pygments_lexer": "ipython3",
   "version": "3.10.6"
  },
  "orig_nbformat": 4
 },
 "nbformat": 4,
 "nbformat_minor": 2
}
